%reload_ext autoreload
%autoreload 2

import utils
from utils import load_passengers
<<<<<<< HEAD
load_passengers().head(10)
=======
load_passengers().head(10)
>>>>>>> 7a3401169a309174d20f179c6fd7e686edc06469
