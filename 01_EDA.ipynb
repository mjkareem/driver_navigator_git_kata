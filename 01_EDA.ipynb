%reload_ext autoreload
%autoreload 2

import utils
from utils import load_passengers
load_passengers().head(10)